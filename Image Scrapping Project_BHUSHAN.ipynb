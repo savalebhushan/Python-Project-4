{
 "cells": [
  {
   "cell_type": "code",
   "execution_count": 15,
   "id": "4f986577",
   "metadata": {},
   "outputs": [],
   "source": [
    "import requests\n",
    "from bs4 import BeautifulSoup\n",
    "from urllib.request import urlopen as uReq\n",
    "import logging\n",
    "import os"
   ]
  },
  {
   "cell_type": "code",
   "execution_count": 16,
   "id": "5d9d89d6",
   "metadata": {},
   "outputs": [],
   "source": [
    "save_dir = \"images/\"\n",
    "if not os.path.exists(save_dir):\n",
    "    os.makedirs(save_dir)"
   ]
  },
  {
   "cell_type": "code",
   "execution_count": 17,
   "id": "97b140af",
   "metadata": {},
   "outputs": [],
   "source": [
    "headers = {\"User-Agent\" : \"Mozilla/5.0(Windows Nt 10.0; Win64; x64) AppleWebkit/537.36(KHTML,like Gecko) Chrome/58.0.3029.110 Safari/537.55\"}"
   ]
  },
  {
   "cell_type": "code",
   "execution_count": 18,
   "id": "7a7f182d",
   "metadata": {},
   "outputs": [],
   "source": [
    "query= \"Salman Khan\"\n",
    "response= requests.get(f\"https://www.google.co.in/search?sca_esv=bc726fa3646732db&sca_upv=1&sxsrf=ADLYWIKUokQn4Epk2vYVQD7iepTJN1GFog:1717134192924&q={query}&tbm=isch&source=lnms&prmd=ivnsmbtz&sa=X&ved=2ahUKEwj41uasl7eGAxX7b2wGHQEpDN0Q0pQJegQIDBAB&biw=1536&bih=695&dpr=1.25#imgrc=imVCCnMfpKce1M\")"
   ]
  },
  {
   "cell_type": "code",
   "execution_count": 19,
   "id": "61e4c454",
   "metadata": {},
   "outputs": [
    {
     "name": "stdout",
     "output_type": "stream",
     "text": [
      "<Response [200]>\n"
     ]
    }
   ],
   "source": [
    "print(response)"
   ]
  },
  {
   "cell_type": "code",
   "execution_count": 20,
   "id": "dc3e035d",
   "metadata": {},
   "outputs": [],
   "source": [
    "soup= BeautifulSoup(response.content,'html.parser')"
   ]
  },
  {
   "cell_type": "code",
   "execution_count": 21,
   "id": "e1f887c4",
   "metadata": {},
   "outputs": [
    {
     "data": {
      "text/plain": [
       "<!DOCTYPE html PUBLIC \"-//WAPFORUM//DTD XHTML Mobile 1.0//EN\" \"http://www.wapforum.org/DTD/xhtml-mobile10.dtd\">\n",
       "<html lang=\"en-IN\" xmlns=\"http://www.w3.org/1999/xhtml\"><head><meta content=\"application/xhtml+xml; charset=utf-8\" http-equiv=\"Content-Type\"/><meta content=\"no-cache\" name=\"Cache-Control\"/><title>Salman Khan - Google Search</title><style>a{text-decoration:none;color:inherit}a:hover{text-decoration:underline}a img{border:0}body{font-family:arial,sans-serif;padding:8px;margin:0 auto;max-width:700px;min-width:240px;}.FbhRzb{border-left:thin solid #dadce0;border-right:thin solid #dadce0;border-top:thin solid #dadce0;height:40px;overflow:hidden}.n692Zd{margin-bottom:10px}.cvifge{height:40px;border-spacing:0}.QvGUP{height:40px;padding:0 8px 0 8px;vertical-align:top}.O4cRJf{height:40px;width:100%;padding:0;padding-right:16px}.O1ePr{height:40px;padding:0;vertical-align:top}.kgJEQe{height:36px;width:98px;vertical-align:top;margin-top:4px}.lXLRf{vertical-align:top}.MhzMZd{border:0;vertical-align:middle;font-size:14px;height:40px;padding:0;width:100%;padding-left:16px}.xB0fq{height:40px;border:none;font-size:14px;background-color:#1a73e8;color:#fff;padding:0 16px;margin:0;vertical-align:top;cursor:pointer}.xB0fq:focus{border:1px solid #1a73e8}.M7pB2{border:thin solid #dadce0;margin:0 0 3px 0;font-size:13px;font-weight:500;height:40px}.euZec{width:100%;height:40px;text-align:center;border-spacing:0}table.euZec td{padding:0;width:25%}.QIqI7{display:inline-block;padding-top:4px;font-weight:bold;color:#4285f4}.EY24We{border-bottom:2px solid #4285f4}.CsQyDc{display:inline-block;color:#70757a}.TuS8Ad{font-size:14px}.HddGcc{padding:8px;color:#70757a}.dzp8ae{font-weight:bold;color:#3c4043}.rEM8G{color:#70757a}.bookcf{table-layout:fixed;width:100%;border-spacing:0}.InWNIe{text-align:center}.uZgmoc{border:thin solid #dadce0;color:#70757a;font-size:14px;text-align:center;table-layout:fixed;width:100%}.frGj1b{display:block;padding:12px 0 12px 0;width:100%}.BnJWBc{text-align:center;padding:6px 0 13px 0;height:35px}.e3goi{vertical-align:top;padding:0;height:180px}.GpQGbf{margin:auto;border-collapse:collapse;border-spacing:0;width:100%}</style></head><body><style>.X6ZCif{color:#202124;font-size:11px;line-height:16px;display:inline-block;padding-top:2px;overflow:hidden;padding-bottom:4px;width:100%}.TwVfHd{border-radius:16px;border:thin solid #dadce0;display:inline-block;padding:8px 8px;margin-right:8px;margin-bottom:4px}.yekiAe{background-color:#dadce0}.jjVJ4e{width:100%}.ezO2md{border:thin solid #dadce0;padding:12px 16px 12px 16px;margin-bottom:10px;font-family:arial,sans-serif}.lIMUZd{font-family:arial,sans-serif}.RntSmf{border-spacing:0}.lgD2Tc{width:100%}.SpelHe{text-align:center}.SpelHe{position:relative}.kCmkOe{position:relative}.kCmkOe{width:162px;height:140px;line-height:140px;overflow:'hidden';text-align:center}.DS1iW{text-align:center;margin:auto;vertical-align:middle;max-width:162px;max-height:140px}.AlD19d{padding-top:2px;padding-bottom:8px;}.fYyStc{word-break:break-word}.ynsChf{display:block;white-space:nowrap;overflow:hidden;text-overflow:ellipsis}.Fj3V3b{color:#1967d2;font-size:14px;line-height:20px}.FrIlee{color:#202124;font-size:11px;line-height:16px}.F9iS2e{color:#70757a;font-size:11px;line-height:16px}.WMQ2Le{color:#70757a;font-size:12px;line-height:16px}.x3G5ab{color:#202124;font-size:12px;line-height:16px}.fuLhoc{color:#1967d2;font-size:16px;line-height:20px}.epoveb{font-size:24px;line-height:28px;font-weight:400;color:#202124}.dXDvrc{color:#0d652d;font-size:14px;line-height:20px;word-wrap:break-word}.dloBPe{font-weight:bold}.YVIcad{color:#70757a}.JkVVdd{color:#ea4335}.oXZRFd{color:#ea4335}.MQHtg{color:#fbbc04}.pyMRrb{color:#1e8e3e}.EtTZid{color:#1e8e3e}.M3vVJe{color:#1967d2}.qXLe6d{display:block}.NHQNef{font-style:italic}.Cb8Z7c{white-space:pre}a.ZWRArf{text-decoration:none}a .CVA68e:hover{text-decoration:underline}</style><div class=\"n692Zd\"><div class=\"BnJWBc\"><a class=\"lXLRf\" href=\"/?sa=X&amp;sca_esv=bc726fa3646732db&amp;sca_upv=1&amp;biw=1536&amp;bih=695&amp;output=images&amp;ie=UTF-8&amp;tbm=isch&amp;ved=0ahUKEwjf-_i929CGAxWe1jgGHfeWAfYQPAgC\"><img alt=\"Google\" class=\"kgJEQe\" src=\"/images/branding/searchlogo/1x/googlelogo_desk_heirloom_color_150x55dp.gif\"/></a></div><div class=\"FbhRzb\"><form action=\"/search\"><input name=\"sca_esv\" type=\"hidden\" value=\"bc726fa3646732db\"/><input name=\"sca_upv\" type=\"hidden\" value=\"1\"/><input name=\"biw\" type=\"hidden\" value=\"1536\"/><input name=\"bih\" type=\"hidden\" value=\"695\"/><input name=\"ie\" type=\"hidden\" value=\"ISO-8859-1\"/><input name=\"tbm\" type=\"hidden\" value=\"isch\"/><input name=\"oq\" type=\"hidden\"/><input name=\"aqs\" type=\"hidden\"/><table class=\"cvifge\"><tr><td class=\"O4cRJf\"><input class=\"MhzMZd\" name=\"q\" type=\"text\" value=\"Salman Khan\"/></td><td class=\"O1ePr\"><input class=\"xB0fq\" type=\"submit\" value=\"Search\"/></td></tr></table></form></div><div class=\"M7pB2\"><table class=\"euZec\"><tbody><tr><td><a class=\"CsQyDc\" href=\"/search?q=Salman+Khan&amp;sca_esv=bc726fa3646732db&amp;sca_upv=1&amp;biw=1536&amp;bih=695&amp;ie=UTF-8&amp;source=lnms&amp;sa=X&amp;ved=0ahUKEwjf-_i929CGAxWe1jgGHfeWAfYQ_AUIBCgA\">ALL</a></td><td><a class=\"CsQyDc\" href=\"/search?q=Salman+Khan&amp;sca_esv=bc726fa3646732db&amp;sca_upv=1&amp;biw=1536&amp;bih=695&amp;ie=UTF-8&amp;tbm=nws&amp;source=lnms&amp;sa=X&amp;ved=0ahUKEwjf-_i929CGAxWe1jgGHfeWAfYQ_AUIBSgB\">NEWS</a></td><td class=\"EY24We\"><span class=\"QIqI7\">IMAGES</span></td><td><a class=\"CsQyDc\" href=\"/search?q=Salman+Khan&amp;sca_esv=bc726fa3646732db&amp;sca_upv=1&amp;biw=1536&amp;bih=695&amp;ie=UTF-8&amp;tbm=vid&amp;source=lnms&amp;sa=X&amp;ved=0ahUKEwjf-_i929CGAxWe1jgGHfeWAfYQ_AUIBygD\">VIDEOS</a></td></tr></tbody></table></div></div><div class=\"X6ZCif\"><a class=\"TwVfHd\" href=\"/search?sca_esv=bc726fa3646732db&amp;sca_upv=1&amp;biw=1536&amp;bih=695&amp;ie=UTF-8&amp;tbm=isch&amp;q=Salman+Khan&amp;chips=q:salman+khan,g_1:wallpaper&amp;sa=X&amp;ved=0ahUKEwjf-_i929CGAxWe1jgGHfeWAfYQ4lYICygA\">wallpaper</a><a class=\"TwVfHd\" href=\"/search?sca_esv=bc726fa3646732db&amp;sca_upv=1&amp;biw=1536&amp;bih=695&amp;ie=UTF-8&amp;tbm=isch&amp;q=Salman+Khan&amp;chips=q:salman+khan,g_1:old&amp;sa=X&amp;ved=0ahUKEwjf-_i929CGAxWe1jgGHfeWAfYQ4lYIDCgB\">old</a><a class=\"TwVfHd\" href=\"/search?sca_esv=bc726fa3646732db&amp;sca_upv=1&amp;biw=1536&amp;bih=695&amp;ie=UTF-8&amp;tbm=isch&amp;q=Salman+Khan&amp;chips=q:salman+khan,g_1:new&amp;sa=X&amp;ved=0ahUKEwjf-_i929CGAxWe1jgGHfeWAfYQ4lYIDSgC\">new</a><a class=\"TwVfHd\" href=\"/search?sca_esv=bc726fa3646732db&amp;sca_upv=1&amp;biw=1536&amp;bih=695&amp;ie=UTF-8&amp;tbm=isch&amp;q=Salman+Khan&amp;chips=q:salman+khan,g_1:hairstyle&amp;sa=X&amp;ved=0ahUKEwjf-_i929CGAxWe1jgGHfeWAfYQ4lYIDigD\">hairstyle</a><a class=\"TwVfHd\" href=\"/search?sca_esv=bc726fa3646732db&amp;sca_upv=1&amp;biw=1536&amp;bih=695&amp;ie=UTF-8&amp;tbm=isch&amp;q=Salman+Khan&amp;chips=q:salman+khan,g_1:sultan&amp;sa=X&amp;ved=0ahUKEwjf-_i929CGAxWe1jgGHfeWAfYQ4lYIDygE\">sultan</a><a class=\"TwVfHd\" href=\"/search?sca_esv=bc726fa3646732db&amp;sca_upv=1&amp;biw=1536&amp;bih=695&amp;ie=UTF-8&amp;tbm=isch&amp;q=Salman+Khan&amp;chips=q:salman+khan,g_1:style&amp;sa=X&amp;ved=0ahUKEwjf-_i929CGAxWe1jgGHfeWAfYQ4lYIECgF\">style</a><a class=\"TwVfHd\" href=\"/search?sca_esv=bc726fa3646732db&amp;sca_upv=1&amp;biw=1536&amp;bih=695&amp;ie=UTF-8&amp;tbm=isch&amp;q=Salman+Khan&amp;chips=q:salman+khan,g_1:bodyguard&amp;sa=X&amp;ved=0ahUKEwjf-_i929CGAxWe1jgGHfeWAfYQ4lYIESgG\">bodyguard</a><a class=\"TwVfHd\" href=\"/search?sca_esv=bc726fa3646732db&amp;sca_upv=1&amp;biw=1536&amp;bih=695&amp;ie=UTF-8&amp;tbm=isch&amp;q=Salman+Khan&amp;chips=q:salman+khan,g_1:movie&amp;sa=X&amp;ved=0ahUKEwjf-_i929CGAxWe1jgGHfeWAfYQ4lYIEigH\">movie</a><a class=\"TwVfHd\" href=\"/search?sca_esv=bc726fa3646732db&amp;sca_upv=1&amp;biw=1536&amp;bih=695&amp;ie=UTF-8&amp;tbm=isch&amp;q=Salman+Khan&amp;chips=q:salman+khan,g_1:radhe&amp;sa=X&amp;ved=0ahUKEwjf-_i929CGAxWe1jgGHfeWAfYQ4lYIEygI\">radhe</a><a class=\"TwVfHd\" href=\"/search?sca_esv=bc726fa3646732db&amp;sca_upv=1&amp;biw=1536&amp;bih=695&amp;ie=UTF-8&amp;tbm=isch&amp;q=Salman+Khan&amp;chips=q:salman+khan,g_1:eid+mubarak&amp;sa=X&amp;ved=0ahUKEwjf-_i929CGAxWe1jgGHfeWAfYQ4lYIFCgJ\">eid mubarak</a></div><div><table class=\"GpQGbf\"><tr><td align=\"center\" class=\"e3goi\"><div class=\"jjVJ4e\"> <div> <div class=\"lIMUZd\"><div><table class=\"RntSmf\"><tr><td><a href=\"/url?q=https://en.wikipedia.org/wiki/Salman_Khan&amp;sa=U&amp;ved=2ahUKEwjf-_i929CGAxWe1jgGHfeWAfYQqoUBegQICBAB&amp;usg=AOvVaw0nAhQxQclagfq0ZJdDBZC5\"><div class=\"kCmkOe\"><img alt=\"\" class=\"DS1iW\" src=\"https://encrypted-tbn0.gstatic.com/images?q=tbn:ANd9GcQ8WTughNjj6PIIbV4YZpJLfFDHKG0NmE7IsVYkRRGeqdvzT3Z-AlOSTD-aNQ&amp;s\"/></div></a></td></tr><tr><td><a href=\"/url?q=https://en.wikipedia.org/wiki/Salman_Khan&amp;sa=U&amp;ved=2ahUKEwjf-_i929CGAxWe1jgGHfeWAfYQr4kDegQICBAC&amp;usg=AOvVaw1tAyPCSFTOk-fKfdKwwAWY\"><div class=\"AlD19d\"> <span class=\"qXLe6d x3G5ab\"> <span class=\"fYyStc\">Salman Khan - Wikipedia</span> </span> <span class=\"qXLe6d F9iS2e\"> <span class=\"fYyStc\">en.wikipedia.org</span> </span> </div></a></td></tr></table></div></div> </div> </div></td><td align=\"center\" class=\"e3goi\"><div class=\"jjVJ4e\"> <div> <div class=\"lIMUZd\"><div><table class=\"RntSmf\"><tr><td><a href=\"/url?q=https://www.britannica.com/biography/Salman-Khan&amp;sa=U&amp;ved=2ahUKEwjf-_i929CGAxWe1jgGHfeWAfYQqoUBegQIExAB&amp;usg=AOvVaw2tUbJAl5a-5heJHIQuQRYE\"><div class=\"kCmkOe\"><img alt=\"\" class=\"DS1iW\" src=\"https://encrypted-tbn0.gstatic.com/images?q=tbn:ANd9GcTEDne1eOpQ4sWD_fRO_FKHe6UkG81SSvjpnRefa7OuM2FTakI-8BGsZyanXgw&amp;s\"/></div></a></td></tr><tr><td><a href=\"/url?q=https://www.britannica.com/biography/Salman-Khan&amp;sa=U&amp;ved=2ahUKEwjf-_i929CGAxWe1jgGHfeWAfYQr4kDegQIExAC&amp;usg=AOvVaw3A05Gv2fiJueozEt-lSZkS\"><div class=\"AlD19d\"> <span class=\"qXLe6d x3G5ab\"> <span class=\"fYyStc\">Salman Khan | Family,...</span> </span> <span class=\"qXLe6d F9iS2e\"> <span class=\"fYyStc\">www.britannica.com</span> </span> </div></a></td></tr></table></div></div> </div> </div></td><td align=\"center\" class=\"e3goi\"><div class=\"jjVJ4e\"> <div> <div class=\"lIMUZd\"><div><table class=\"RntSmf\"><tr><td><a href=\"/url?q=https://www.imdb.com/name/nm0006795/&amp;sa=U&amp;ved=2ahUKEwjf-_i929CGAxWe1jgGHfeWAfYQqoUBegQIEhAB&amp;usg=AOvVaw0FV8QlVzS7crdzwoWODVr5\"><div class=\"kCmkOe\"><img alt=\"\" class=\"DS1iW\" src=\"https://encrypted-tbn0.gstatic.com/images?q=tbn:ANd9GcQsPJlmB541FlXqTl6rCvD33NhUIj0Myk9e4PujbsHZd7vp5QsNLg9tna6GYxs&amp;s\"/></div></a></td></tr><tr><td><a href=\"/url?q=https://www.imdb.com/name/nm0006795/&amp;sa=U&amp;ved=2ahUKEwjf-_i929CGAxWe1jgGHfeWAfYQr4kDegQIEhAC&amp;usg=AOvVaw080FjvQkZ1mjgfEscGRm_F\"><div class=\"AlD19d\"> <span class=\"qXLe6d x3G5ab\"> <span class=\"fYyStc\">Salman Khan - IMDb</span> </span> <span class=\"qXLe6d F9iS2e\"> <span class=\"fYyStc\">www.imdb.com</span> </span> </div></a></td></tr></table></div></div> </div> </div></td><td align=\"center\" class=\"e3goi\"><div class=\"jjVJ4e\"> <div> <div class=\"lIMUZd\"><div><table class=\"RntSmf\"><tr><td><a href=\"/url?q=https://indianexpress.com/article/entertainment/bollywood/shah-rukh-khan-has-a-particular-way-of-falling-salman-khan-will-say-come-hit-me-nikitin-dheer-on-difference-between-the-two-khans-9377340/&amp;sa=U&amp;ved=2ahUKEwjf-_i929CGAxWe1jgGHfeWAfYQqoUBegQIDhAB&amp;usg=AOvVaw2EVdrJRlqp3n3JgIFjmO5H\"><div class=\"kCmkOe\"><img alt=\"\" class=\"DS1iW\" src=\"https://encrypted-tbn0.gstatic.com/images?q=tbn:ANd9GcRkyCze7mJ_3z9hLAHaMmSFFN8CZrMKOW-9OF_5ugjGQfGcSagcfT1QoiJIISk&amp;s\"/></div></a></td></tr><tr><td><a href=\"/url?q=https://indianexpress.com/article/entertainment/bollywood/shah-rukh-khan-has-a-particular-way-of-falling-salman-khan-will-say-come-hit-me-nikitin-dheer-on-difference-between-the-two-khans-9377340/&amp;sa=U&amp;ved=2ahUKEwjf-_i929CGAxWe1jgGHfeWAfYQr4kDegQIDhAC&amp;usg=AOvVaw2v4HGaMusaNZN1F9Mh6ydq\"><div class=\"AlD19d\"> <span class=\"qXLe6d x3G5ab\"> <span class=\"fYyStc\">Shah Rukh Khan has a...</span> </span> <span class=\"qXLe6d F9iS2e\"> <span class=\"fYyStc\">indianexpress.com</span> </span> </div></a></td></tr></table></div></div> </div> </div></td></tr><tr><td align=\"center\" class=\"e3goi\"><div class=\"jjVJ4e\"> <div> <div class=\"lIMUZd\"><div><table class=\"RntSmf\"><tr><td><a href=\"/url?q=https://www.siasat.com/how-much-was-salman-khan-paid-for-hum-aapke-hain-koun-3040488/&amp;sa=U&amp;ved=2ahUKEwjf-_i929CGAxWe1jgGHfeWAfYQqoUBegQIEBAB&amp;usg=AOvVaw2HWhn79uxgUizFV-RVl7ix\"><div class=\"kCmkOe\"><img alt=\"\" class=\"DS1iW\" src=\"https://encrypted-tbn0.gstatic.com/images?q=tbn:ANd9GcS8wmPVtghLnMA_Xk4WOwbWL3ZKyUAgLCaDeQGgW_xym4Mg1CnOSAsZOW3oVQ&amp;s\"/></div></a></td></tr><tr><td><a href=\"/url?q=https://www.siasat.com/how-much-was-salman-khan-paid-for-hum-aapke-hain-koun-3040488/&amp;sa=U&amp;ved=2ahUKEwjf-_i929CGAxWe1jgGHfeWAfYQr4kDegQIEBAC&amp;usg=AOvVaw2Eu2z7ANUGlf3nNC4_ijVK\"><div class=\"AlD19d\"> <span class=\"qXLe6d x3G5ab\"> <span class=\"fYyStc\">How much was Salman Khan...</span> </span> <span class=\"qXLe6d F9iS2e\"> <span class=\"fYyStc\">www.siasat.com</span> </span> </div></a></td></tr></table></div></div> </div> </div></td><td align=\"center\" class=\"e3goi\"><div class=\"jjVJ4e\"> <div> <div class=\"lIMUZd\"><div><table class=\"RntSmf\"><tr><td><a href=\"/url?q=https://www.imdb.com/name/nm0006795/&amp;sa=U&amp;ved=2ahUKEwjf-_i929CGAxWe1jgGHfeWAfYQqoUBegQIDxAB&amp;usg=AOvVaw1lJ843OK5TGYZioT_aJqfZ\"><div class=\"kCmkOe\"><img alt=\"\" class=\"DS1iW\" src=\"https://encrypted-tbn0.gstatic.com/images?q=tbn:ANd9GcQj5s7acYNhiCutlf6HR6WufjpEHY5eHLqDpJua8NzoPhhnaPO9Z0s8ZnVGZkc&amp;s\"/></div></a></td></tr><tr><td><a href=\"/url?q=https://www.imdb.com/name/nm0006795/&amp;sa=U&amp;ved=2ahUKEwjf-_i929CGAxWe1jgGHfeWAfYQr4kDegQIDxAC&amp;usg=AOvVaw0ASCYE7cE89Ap43nS5i5u8\"><div class=\"AlD19d\"> <span class=\"qXLe6d x3G5ab\"> <span class=\"fYyStc\">Salman Khan - IMDb</span> </span> <span class=\"qXLe6d F9iS2e\"> <span class=\"fYyStc\">www.imdb.com</span> </span> </div></a></td></tr></table></div></div> </div> </div></td><td align=\"center\" class=\"e3goi\"><div class=\"jjVJ4e\"> <div> <div class=\"lIMUZd\"><div><table class=\"RntSmf\"><tr><td><a href=\"/url?q=https://www.bollywoodhungama.com/photos/celeb-wallpapers/salman-khan/salman-khan-17/&amp;sa=U&amp;ved=2ahUKEwjf-_i929CGAxWe1jgGHfeWAfYQqoUBegQIERAB&amp;usg=AOvVaw0KtBW_tGO-lnjhTjgqB3fi\"><div class=\"kCmkOe\"><img alt=\"\" class=\"DS1iW\" src=\"https://encrypted-tbn0.gstatic.com/images?q=tbn:ANd9GcQQKjmDfKKhJJAzyRHwVEbxp2H5vpeLomIsSbsfxXOIO9cB5NpvRCCORKPGMMk&amp;s\"/></div></a></td></tr><tr><td><a href=\"/url?q=https://www.bollywoodhungama.com/photos/celeb-wallpapers/salman-khan/salman-khan-17/&amp;sa=U&amp;ved=2ahUKEwjf-_i929CGAxWe1jgGHfeWAfYQr4kDegQIERAC&amp;usg=AOvVaw0VtebliwYkbRztU4oEN8QF\"><div class=\"AlD19d\"> <span class=\"qXLe6d x3G5ab\"> <span class=\"fYyStc\">Salman Khan Wallpapers |...</span> </span> <span class=\"qXLe6d F9iS2e\"> <span class=\"fYyStc\">www.bollywoodhungama.com</span> </span> </div></a></td></tr></table></div></div> </div> </div></td><td align=\"center\" class=\"e3goi\"><div class=\"jjVJ4e\"> <div> <div class=\"lIMUZd\"><div><table class=\"RntSmf\"><tr><td><a href=\"/url?q=https://www.filmfare.com/nostalgia/pics-the-90s-salman-khan-an-epitome-of-rugged-charm-and-undeniable-looks-58676.html&amp;sa=U&amp;ved=2ahUKEwjf-_i929CGAxWe1jgGHfeWAfYQqoUBegQICxAB&amp;usg=AOvVaw2ib5qsVHrnNpqN6m6x3u4_\"><div class=\"kCmkOe\"><img alt=\"\" class=\"DS1iW\" src=\"https://encrypted-tbn0.gstatic.com/images?q=tbn:ANd9GcR5WVu02Zxz08ydK5B_I4goFf6oKTm2CUWUqpkMRbdUSp-AkJhlLXMTntQ9XA&amp;s\"/></div></a></td></tr><tr><td><a href=\"/url?q=https://www.filmfare.com/nostalgia/pics-the-90s-salman-khan-an-epitome-of-rugged-charm-and-undeniable-looks-58676.html&amp;sa=U&amp;ved=2ahUKEwjf-_i929CGAxWe1jgGHfeWAfYQr4kDegQICxAC&amp;usg=AOvVaw3_Ykv5ywhgsFd0TdIcYSSh\"><div class=\"AlD19d\"> <span class=\"qXLe6d x3G5ab\"> <span class=\"fYyStc\">Pics: The '90s Salman Khan,...</span> </span> <span class=\"qXLe6d F9iS2e\"> <span class=\"fYyStc\">www.filmfare.com</span> </span> </div></a></td></tr></table></div></div> </div> </div></td></tr><tr><td align=\"center\" class=\"e3goi\"><div class=\"jjVJ4e\"> <div> <div class=\"lIMUZd\"><div><table class=\"RntSmf\"><tr><td><a href=\"/url?q=https://www.bollywoodhungama.com/news/bollywood/salman-khan-helps-18-year-old-boy-karnataka-ration-educational-equipment-father-succumbs-covid-19/&amp;sa=U&amp;ved=2ahUKEwjf-_i929CGAxWe1jgGHfeWAfYQqoUBegQIChAB&amp;usg=AOvVaw0c2HiBwaicKCMUj9fBovVy\"><div class=\"kCmkOe\"><img alt=\"\" class=\"DS1iW\" src=\"https://encrypted-tbn0.gstatic.com/images?q=tbn:ANd9GcR3qA8EKTCS85DnobU9yBz7bMAWBXeyw8deI09u_jnYPunNEaFxWzdoR4eD2MA&amp;s\"/></div></a></td></tr><tr><td><a href=\"/url?q=https://www.bollywoodhungama.com/news/bollywood/salman-khan-helps-18-year-old-boy-karnataka-ration-educational-equipment-father-succumbs-covid-19/&amp;sa=U&amp;ved=2ahUKEwjf-_i929CGAxWe1jgGHfeWAfYQr4kDegQIChAC&amp;usg=AOvVaw0grHfvlLipFm-AGFYIuARs\"><div class=\"AlD19d\"> <span class=\"qXLe6d x3G5ab\"> <span class=\"fYyStc\">Salman Khan helps...</span> </span> <span class=\"qXLe6d F9iS2e\"> <span class=\"fYyStc\">www.bollywoodhungama.com</span> </span> </div></a></td></tr></table></div></div> </div> </div></td><td align=\"center\" class=\"e3goi\"><div class=\"jjVJ4e\"> <div> <div class=\"lIMUZd\"><div><table class=\"RntSmf\"><tr><td><a href=\"/url?q=https://www.peakpx.com/en/search%3Fq%3Dsalman%2Bkhan&amp;sa=U&amp;ved=2ahUKEwjf-_i929CGAxWe1jgGHfeWAfYQqoUBegQICRAB&amp;usg=AOvVaw1YaM4wiZlqRvSYeFDcB11k\"><div class=\"kCmkOe\"><img alt=\"\" class=\"DS1iW\" src=\"https://encrypted-tbn0.gstatic.com/images?q=tbn:ANd9GcTS7Tg80LokKFyc38SctyW9jf9fcH8ZNqOFujjYgIKCgjYCy5X9O5fcfPjwtc0&amp;s\"/></div></a></td></tr><tr><td><a href=\"/url?q=https://www.peakpx.com/en/search%3Fq%3Dsalman%2Bkhan&amp;sa=U&amp;ved=2ahUKEwjf-_i929CGAxWe1jgGHfeWAfYQr4kDegQICRAC&amp;usg=AOvVaw0BXiDipheTo5IPQp1pVq9N\"><div class=\"AlD19d\"> <span class=\"qXLe6d x3G5ab\"> <span class=\"fYyStc\">HD salman khan wallpapers |...</span> </span> <span class=\"qXLe6d F9iS2e\"> <span class=\"fYyStc\">www.peakpx.com</span> </span> </div></a></td></tr></table></div></div> </div> </div></td><td align=\"center\" class=\"e3goi\"><div class=\"jjVJ4e\"> <div> <div class=\"lIMUZd\"><div><table class=\"RntSmf\"><tr><td><a href=\"/url?q=https://www.facebook.com/kirraak.salman.fans/%3Flocale%3Dnl_NL&amp;sa=U&amp;ved=2ahUKEwjf-_i929CGAxWe1jgGHfeWAfYQqoUBegQIDBAB&amp;usg=AOvVaw17ix-liFpuEbjU6ly9KDHn\"><div class=\"kCmkOe\"><img alt=\"\" class=\"DS1iW\" src=\"https://encrypted-tbn0.gstatic.com/images?q=tbn:ANd9GcQzCDShTV303v_69pSOKVN91I4-_Z62oIX5rvwcVpMRknPeMX7xt9M7qTwE7Q&amp;s\"/></div></a></td></tr><tr><td><a href=\"/url?q=https://www.facebook.com/kirraak.salman.fans/%3Flocale%3Dnl_NL&amp;sa=U&amp;ved=2ahUKEwjf-_i929CGAxWe1jgGHfeWAfYQr4kDegQIDBAC&amp;usg=AOvVaw0TahO9dyCuJYgYvT2kS-7X\"><div class=\"AlD19d\"> <span class=\"qXLe6d x3G5ab\"> <span class=\"fYyStc\">Salman Khan The Sultan Of...</span> </span> <span class=\"qXLe6d F9iS2e\"> <span class=\"fYyStc\">www.facebook.com</span> </span> </div></a></td></tr></table></div></div> </div> </div></td><td align=\"center\" class=\"e3goi\"><div class=\"jjVJ4e\"> <div> <div class=\"lIMUZd\"><div><table class=\"RntSmf\"><tr><td><a href=\"/url?q=https://www.siasat.com/golden-hearted-salman-khan-meets-cancer-patient-2963915/&amp;sa=U&amp;ved=2ahUKEwjf-_i929CGAxWe1jgGHfeWAfYQqoUBegQIDRAB&amp;usg=AOvVaw1kmYLvrQTWmqeF1U2XMd-n\"><div class=\"kCmkOe\"><img alt=\"\" class=\"DS1iW\" src=\"https://encrypted-tbn0.gstatic.com/images?q=tbn:ANd9GcSSFTlCj_gLPk9xUnpZJiA48SXVn5c5OQoOsANFAtro2AcFI7tA4oKd9fi4Ug&amp;s\"/></div></a></td></tr><tr><td><a href=\"/url?q=https://www.siasat.com/golden-hearted-salman-khan-meets-cancer-patient-2963915/&amp;sa=U&amp;ved=2ahUKEwjf-_i929CGAxWe1jgGHfeWAfYQr4kDegQIDRAC&amp;usg=AOvVaw2cZ5EcpO6ZIkv9_IQGJ6vS\"><div class=\"AlD19d\"> <span class=\"qXLe6d x3G5ab\"> <span class=\"fYyStc\">Golden hearted! Salman Khan...</span> </span> <span class=\"qXLe6d F9iS2e\"> <span class=\"fYyStc\">www.siasat.com</span> </span> </div></a></td></tr></table></div></div> </div> </div></td></tr><tr><td align=\"center\" class=\"e3goi\"><div class=\"jjVJ4e\"> <div> <div class=\"lIMUZd\"><div><table class=\"RntSmf\"><tr><td><a href=\"/url?q=https://www.newindianexpress.com/entertainment/hindi/2023/Dec/02/interview--you-make-a-film-only-when-you-have-a-good-script-salman-khan-2637581.html&amp;sa=U&amp;ved=2ahUKEwjf-_i929CGAxWe1jgGHfeWAfYQqoUBegQIBRAB&amp;usg=AOvVaw2WqyqFl6OZlx3TKU0eTdy1\"><div class=\"kCmkOe\"><img alt=\"\" class=\"DS1iW\" src=\"https://encrypted-tbn0.gstatic.com/images?q=tbn:ANd9GcS1_1LFgBAxiq2wel_aoEifNamK9szJLeAMqKkKIxRyeKSDjhIBd-Rlc_q9_Q&amp;s\"/></div></a></td></tr><tr><td><a href=\"/url?q=https://www.newindianexpress.com/entertainment/hindi/2023/Dec/02/interview--you-make-a-film-only-when-you-have-a-good-script-salman-khan-2637581.html&amp;sa=U&amp;ved=2ahUKEwjf-_i929CGAxWe1jgGHfeWAfYQr4kDegQIBRAC&amp;usg=AOvVaw0YLkg3r0YXi9QRhqQ2sDEg\"><div class=\"AlD19d\"> <span class=\"qXLe6d x3G5ab\"> <span class=\"fYyStc\">INTERVIEW | You make a film...</span> </span> <span class=\"qXLe6d F9iS2e\"> <span class=\"fYyStc\">www.newindianexpress.com</span> </span> </div></a></td></tr></table></div></div> </div> </div></td><td align=\"center\" class=\"e3goi\"><div class=\"jjVJ4e\"> <div> <div class=\"lIMUZd\"><div><table class=\"RntSmf\"><tr><td><a href=\"/url?q=https://www.alamy.com/salman-khan-indian-bollywood-film-actor-producer-singer-television-personality-abdul-rashid-salim-salman-khan-india-asia-old-vintage-1900s-picture-image346775822.html&amp;sa=U&amp;ved=2ahUKEwjf-_i929CGAxWe1jgGHfeWAfYQqoUBegQIARAB&amp;usg=AOvVaw13ArVAR7NLsM1tQf5hsDob\"><div class=\"kCmkOe\"><img alt=\"\" class=\"DS1iW\" src=\"https://encrypted-tbn0.gstatic.com/images?q=tbn:ANd9GcRIrFYPFYBcaD5Vz2UXmf-wlgO0ZATlQvu4TiM5-TUFg6_jWW1AaqxqKUDL3bU&amp;s\"/></div></a></td></tr><tr><td><a href=\"/url?q=https://www.alamy.com/salman-khan-indian-bollywood-film-actor-producer-singer-television-personality-abdul-rashid-salim-salman-khan-india-asia-old-vintage-1900s-picture-image346775822.html&amp;sa=U&amp;ved=2ahUKEwjf-_i929CGAxWe1jgGHfeWAfYQr4kDegQIARAC&amp;usg=AOvVaw24HKOmkhDxfg_GToDD_SRq\"><div class=\"AlD19d\"> <span class=\"qXLe6d x3G5ab\"> <span class=\"fYyStc\">Salman Khan, Indian...</span> </span> <span class=\"qXLe6d F9iS2e\"> <span class=\"fYyStc\">www.alamy.com</span> </span> </div></a></td></tr></table></div></div> </div> </div></td><td align=\"center\" class=\"e3goi\"><div class=\"jjVJ4e\"> <div> <div class=\"lIMUZd\"><div><table class=\"RntSmf\"><tr><td><a href=\"/url?q=https://twitter.com/beingsalmankhan&amp;sa=U&amp;ved=2ahUKEwjf-_i929CGAxWe1jgGHfeWAfYQqoUBegQIBxAB&amp;usg=AOvVaw0-AADashFf5wCNUr416UYK\"><div class=\"kCmkOe\"><img alt=\"\" class=\"DS1iW\" src=\"https://encrypted-tbn0.gstatic.com/images?q=tbn:ANd9GcSuKzon4oIn7-OSb-9iXx3FqqSwfGoodeTfpwLoBGSEtc6umZV6Y7_C26mJx5c&amp;s\"/></div></a></td></tr><tr><td><a href=\"/url?q=https://twitter.com/beingsalmankhan&amp;sa=U&amp;ved=2ahUKEwjf-_i929CGAxWe1jgGHfeWAfYQr4kDegQIBxAC&amp;usg=AOvVaw2Wgv0RoeIGrIikwRTuIR3Z\"><div class=\"AlD19d\"> <span class=\"qXLe6d x3G5ab\"> <span class=\"fYyStc\">Salman Khan...</span> </span> <span class=\"qXLe6d F9iS2e\"> <span class=\"fYyStc\">twitter.com</span> </span> </div></a></td></tr></table></div></div> </div> </div></td><td align=\"center\" class=\"e3goi\"><div class=\"jjVJ4e\"> <div> <div class=\"lIMUZd\"><div><table class=\"RntSmf\"><tr><td><a href=\"/url?q=https://in.bookmyshow.com/person/salman-khan/1991&amp;sa=U&amp;ved=2ahUKEwjf-_i929CGAxWe1jgGHfeWAfYQqoUBegQIAhAB&amp;usg=AOvVaw3GsJ0ywoQEZYgA89PqZaV0\"><div class=\"kCmkOe\"><img alt=\"\" class=\"DS1iW\" src=\"https://encrypted-tbn0.gstatic.com/images?q=tbn:ANd9GcS4IRohWS0oQyw8dCQDHZCbaelnPDQ3BSD7pzC45LnQgWj0XKewLqleUqC4PVg&amp;s\"/></div></a></td></tr><tr><td><a href=\"/url?q=https://in.bookmyshow.com/person/salman-khan/1991&amp;sa=U&amp;ved=2ahUKEwjf-_i929CGAxWe1jgGHfeWAfYQr4kDegQIAhAC&amp;usg=AOvVaw03DPWqo8Z1docVJaX2dDgJ\"><div class=\"AlD19d\"> <span class=\"qXLe6d x3G5ab\"> <span class=\"fYyStc\">Salman Khan - Movies,...</span> </span> <span class=\"qXLe6d F9iS2e\"> <span class=\"fYyStc\">in.bookmyshow.com</span> </span> </div></a></td></tr></table></div></div> </div> </div></td></tr><tr><td align=\"center\" class=\"e3goi\"><div class=\"jjVJ4e\"> <div> <div class=\"lIMUZd\"><div><table class=\"RntSmf\"><tr><td><a href=\"/url?q=https://indianexpress.com/article/entertainment/bollywood/when-salman-khan-cycled-past-shah-rukh-khan-mannat-yelled-his-name-watch-9381660/&amp;sa=U&amp;ved=2ahUKEwjf-_i929CGAxWe1jgGHfeWAfYQqoUBegQIABAB&amp;usg=AOvVaw3rTagQC47-8DoMnaPYgs3q\"><div class=\"kCmkOe\"><img alt=\"\" class=\"DS1iW\" src=\"https://encrypted-tbn0.gstatic.com/images?q=tbn:ANd9GcQRvWXy6YVu9wObngPfYExc4ri00-ykooIXnV5SUkJAC0BSNsp_nGbj4lLlAQ&amp;s\"/></div></a></td></tr><tr><td><a href=\"/url?q=https://indianexpress.com/article/entertainment/bollywood/when-salman-khan-cycled-past-shah-rukh-khan-mannat-yelled-his-name-watch-9381660/&amp;sa=U&amp;ved=2ahUKEwjf-_i929CGAxWe1jgGHfeWAfYQr4kDegQIABAC&amp;usg=AOvVaw0fyZY2lukeld_XDQY4F1Ou\"><div class=\"AlD19d\"> <span class=\"qXLe6d x3G5ab\"> <span class=\"fYyStc\">When Salman Khan cycled...</span> </span> <span class=\"qXLe6d F9iS2e\"> <span class=\"fYyStc\">indianexpress.com</span> </span> </div></a></td></tr></table></div></div> </div> </div></td><td align=\"center\" class=\"e3goi\"><div class=\"jjVJ4e\"> <div> <div class=\"lIMUZd\"><div><table class=\"RntSmf\"><tr><td><a href=\"/url?q=https://www.siasat.com/update-salman-khan-to-begin-sikandar-shoot-on-this-date-3041871/&amp;sa=U&amp;ved=2ahUKEwjf-_i929CGAxWe1jgGHfeWAfYQqoUBegQIBBAB&amp;usg=AOvVaw1H2yjhgJnPrKUUsrG-c0TN\"><div class=\"kCmkOe\"><img alt=\"\" class=\"DS1iW\" src=\"https://encrypted-tbn0.gstatic.com/images?q=tbn:ANd9GcQZPb_p7YLuTyRVoY7KTaBHru3IFF_XUbe2_liQU8Q9ZtxEy8GwjxJQ3ntt4w&amp;s\"/></div></a></td></tr><tr><td><a href=\"/url?q=https://www.siasat.com/update-salman-khan-to-begin-sikandar-shoot-on-this-date-3041871/&amp;sa=U&amp;ved=2ahUKEwjf-_i929CGAxWe1jgGHfeWAfYQr4kDegQIBBAC&amp;usg=AOvVaw1yDs9yAbqKckG4UVLzU-6M\"><div class=\"AlD19d\"> <span class=\"qXLe6d x3G5ab\"> <span class=\"fYyStc\">Update: Salman Khan to...</span> </span> <span class=\"qXLe6d F9iS2e\"> <span class=\"fYyStc\">www.siasat.com</span> </span> </div></a></td></tr></table></div></div> </div> </div></td><td align=\"center\" class=\"e3goi\"><div class=\"jjVJ4e\"> <div> <div class=\"lIMUZd\"><div><table class=\"RntSmf\"><tr><td><a href=\"/url?q=https://www.facebook.com/OnlineSalman.K/&amp;sa=U&amp;ved=2ahUKEwjf-_i929CGAxWe1jgGHfeWAfYQqoUBegQIAxAB&amp;usg=AOvVaw38bXX_05ZGsYJpxTSwmCSe\"><div class=\"kCmkOe\"><img alt=\"\" class=\"DS1iW\" src=\"https://encrypted-tbn0.gstatic.com/images?q=tbn:ANd9GcS9yrkKS_LTMA1qXTqX43fAo6Fgr_vddHPDO_N0a0kQd2LhRUmEYk6O6vsSsg&amp;s\"/></div></a></td></tr><tr><td><a href=\"/url?q=https://www.facebook.com/OnlineSalman.K/&amp;sa=U&amp;ved=2ahUKEwjf-_i929CGAxWe1jgGHfeWAfYQr4kDegQIAxAC&amp;usg=AOvVaw3acxEfPOIToqB1hXh0JUgn\"><div class=\"AlD19d\"> <span class=\"qXLe6d x3G5ab\"> <span class=\"fYyStc\">Salman Khan Online | Mumbai...</span> </span> <span class=\"qXLe6d F9iS2e\"> <span class=\"fYyStc\">www.facebook.com</span> </span> </div></a></td></tr></table></div></div> </div> </div></td><td align=\"center\" class=\"e3goi\"><div class=\"jjVJ4e\"> <div> <div class=\"lIMUZd\"><div><table class=\"RntSmf\"><tr><td><a href=\"/url?q=https://www.indiatoday.in/movies/celebrities/story/farida-jalal-lost-touch-shah-rukh-khan-salman-khan-exclusive-2550855-2024-06-09&amp;sa=U&amp;ved=2ahUKEwjf-_i929CGAxWe1jgGHfeWAfYQqoUBegQIBhAB&amp;usg=AOvVaw1B2WmdiM9eu9cnqLlXsqmd\"><div class=\"kCmkOe\"><img alt=\"\" class=\"DS1iW\" src=\"https://encrypted-tbn0.gstatic.com/images?q=tbn:ANd9GcStmYU8AolJv9bUIwMsQf1G2NWSirV9n5tp-qH7tXz1Qke-4wjT00-IBqkvBI4&amp;s\"/></div></a></td></tr><tr><td><a href=\"/url?q=https://www.indiatoday.in/movies/celebrities/story/farida-jalal-lost-touch-shah-rukh-khan-salman-khan-exclusive-2550855-2024-06-09&amp;sa=U&amp;ved=2ahUKEwjf-_i929CGAxWe1jgGHfeWAfYQr4kDegQIBhAC&amp;usg=AOvVaw1vRxex80DuyOp8jwGCmO9G\"><div class=\"AlD19d\"> <span class=\"qXLe6d x3G5ab\"> <span class=\"fYyStc\">Farida Jalal says she's...</span> </span> <span class=\"qXLe6d F9iS2e\"> <span class=\"fYyStc\">www.indiatoday.in</span> </span> </div></a></td></tr></table></div></div> </div> </div></td></tr></table></div><table class=\"uZgmoc\"><tbody><td><a class=\"frGj1b\" href=\"/search?q=Salman+Khan&amp;sca_esv=bc726fa3646732db&amp;sca_upv=1&amp;biw=1536&amp;bih=695&amp;ie=UTF-8&amp;tbm=isch&amp;ei=U8ZmZp-GOZ6t4-EP962GsA8&amp;start=20&amp;sa=N\">Next &gt;</a></td></tbody></table><br/><div class=\"TuS8Ad\" data-ved=\"0ahUKEwjf-_i929CGAxWe1jgGHfeWAfYQpyoIUg\"><style>.VYM29{font-weight:bold}</style><div align=\"center\" class=\"HddGcc\"><span class=\"VYM29\">Swapnanagari, Jaysingpur, Maharashtra</span><span> - </span><span>From your IP address</span><span> - </span><a href=\"/url?q=https://support.google.com/websearch%3Fp%3Dws_settings_location%26hl%3Den-IN&amp;opi=89978449&amp;sa=U&amp;ved=0ahUKEwjf-_i929CGAxWe1jgGHfeWAfYQty4IUw&amp;usg=AOvVaw08FCHOlzI7dXWoqnjgOHjd\">Learn more</a></div><div align=\"center\"><a class=\"rEM8G\" href=\"/url?q=https://accounts.google.com/ServiceLogin%3Fcontinue%3Dhttps://www.google.co.in/search%253Fsca_esv%253Dbc726fa3646732db%2526sca_upv%253D1%2526sxsrf%253DADLYWIKUokQn4Epk2vYVQD7iepTJN1GFog:1717134192924%2526q%253DSalman%252BKhan%2526tbm%253Disch%2526source%253Dlnms%2526prmd%253Divnsmbtz%2526sa%253DX%2526ved%253D2ahUKEwj41uasl7eGAxX7b2wGHQEpDN0Q0pQJegQIDBAB%2526biw%253D1536%2526bih%253D695%2526dpr%253D1.25%26hl%3Den&amp;opi=89978449&amp;sa=U&amp;ved=0ahUKEwjf-_i929CGAxWe1jgGHfeWAfYQxs8CCFQ&amp;usg=AOvVaw2uAFy8-nEHRCbS4-Tadgi8\">Sign in</a></div><div><table class=\"bookcf\"><tbody class=\"InWNIe\"><tr><td><a class=\"rEM8G\" href=\"https://www.google.co.in/preferences?hl=en&amp;sa=X&amp;ved=0ahUKEwjf-_i929CGAxWe1jgGHfeWAfYQv5YECFU\">Settings</a></td><td><a class=\"rEM8G\" href=\"https://www.google.co.in/intl/en_in/policies/privacy/\">Privacy</a></td><td><a class=\"rEM8G\" href=\"https://www.google.co.in/intl/en_in/policies/terms/\">Terms</a></td></tr></tbody></table></div></div><div> </div></body></html>"
      ]
     },
     "execution_count": 21,
     "metadata": {},
     "output_type": "execute_result"
    }
   ],
   "source": [
    "soup"
   ]
  },
  {
   "cell_type": "code",
   "execution_count": 22,
   "id": "f9cb8b5a",
   "metadata": {},
   "outputs": [
    {
     "data": {
      "text/plain": [
       "[<img alt=\"Google\" class=\"kgJEQe\" src=\"/images/branding/searchlogo/1x/googlelogo_desk_heirloom_color_150x55dp.gif\"/>,\n",
       " <img alt=\"\" class=\"DS1iW\" src=\"https://encrypted-tbn0.gstatic.com/images?q=tbn:ANd9GcQ8WTughNjj6PIIbV4YZpJLfFDHKG0NmE7IsVYkRRGeqdvzT3Z-AlOSTD-aNQ&amp;s\"/>,\n",
       " <img alt=\"\" class=\"DS1iW\" src=\"https://encrypted-tbn0.gstatic.com/images?q=tbn:ANd9GcTEDne1eOpQ4sWD_fRO_FKHe6UkG81SSvjpnRefa7OuM2FTakI-8BGsZyanXgw&amp;s\"/>,\n",
       " <img alt=\"\" class=\"DS1iW\" src=\"https://encrypted-tbn0.gstatic.com/images?q=tbn:ANd9GcQsPJlmB541FlXqTl6rCvD33NhUIj0Myk9e4PujbsHZd7vp5QsNLg9tna6GYxs&amp;s\"/>,\n",
       " <img alt=\"\" class=\"DS1iW\" src=\"https://encrypted-tbn0.gstatic.com/images?q=tbn:ANd9GcRkyCze7mJ_3z9hLAHaMmSFFN8CZrMKOW-9OF_5ugjGQfGcSagcfT1QoiJIISk&amp;s\"/>,\n",
       " <img alt=\"\" class=\"DS1iW\" src=\"https://encrypted-tbn0.gstatic.com/images?q=tbn:ANd9GcS8wmPVtghLnMA_Xk4WOwbWL3ZKyUAgLCaDeQGgW_xym4Mg1CnOSAsZOW3oVQ&amp;s\"/>,\n",
       " <img alt=\"\" class=\"DS1iW\" src=\"https://encrypted-tbn0.gstatic.com/images?q=tbn:ANd9GcQj5s7acYNhiCutlf6HR6WufjpEHY5eHLqDpJua8NzoPhhnaPO9Z0s8ZnVGZkc&amp;s\"/>,\n",
       " <img alt=\"\" class=\"DS1iW\" src=\"https://encrypted-tbn0.gstatic.com/images?q=tbn:ANd9GcQQKjmDfKKhJJAzyRHwVEbxp2H5vpeLomIsSbsfxXOIO9cB5NpvRCCORKPGMMk&amp;s\"/>,\n",
       " <img alt=\"\" class=\"DS1iW\" src=\"https://encrypted-tbn0.gstatic.com/images?q=tbn:ANd9GcR5WVu02Zxz08ydK5B_I4goFf6oKTm2CUWUqpkMRbdUSp-AkJhlLXMTntQ9XA&amp;s\"/>,\n",
       " <img alt=\"\" class=\"DS1iW\" src=\"https://encrypted-tbn0.gstatic.com/images?q=tbn:ANd9GcR3qA8EKTCS85DnobU9yBz7bMAWBXeyw8deI09u_jnYPunNEaFxWzdoR4eD2MA&amp;s\"/>,\n",
       " <img alt=\"\" class=\"DS1iW\" src=\"https://encrypted-tbn0.gstatic.com/images?q=tbn:ANd9GcTS7Tg80LokKFyc38SctyW9jf9fcH8ZNqOFujjYgIKCgjYCy5X9O5fcfPjwtc0&amp;s\"/>,\n",
       " <img alt=\"\" class=\"DS1iW\" src=\"https://encrypted-tbn0.gstatic.com/images?q=tbn:ANd9GcQzCDShTV303v_69pSOKVN91I4-_Z62oIX5rvwcVpMRknPeMX7xt9M7qTwE7Q&amp;s\"/>,\n",
       " <img alt=\"\" class=\"DS1iW\" src=\"https://encrypted-tbn0.gstatic.com/images?q=tbn:ANd9GcSSFTlCj_gLPk9xUnpZJiA48SXVn5c5OQoOsANFAtro2AcFI7tA4oKd9fi4Ug&amp;s\"/>,\n",
       " <img alt=\"\" class=\"DS1iW\" src=\"https://encrypted-tbn0.gstatic.com/images?q=tbn:ANd9GcS1_1LFgBAxiq2wel_aoEifNamK9szJLeAMqKkKIxRyeKSDjhIBd-Rlc_q9_Q&amp;s\"/>,\n",
       " <img alt=\"\" class=\"DS1iW\" src=\"https://encrypted-tbn0.gstatic.com/images?q=tbn:ANd9GcRIrFYPFYBcaD5Vz2UXmf-wlgO0ZATlQvu4TiM5-TUFg6_jWW1AaqxqKUDL3bU&amp;s\"/>,\n",
       " <img alt=\"\" class=\"DS1iW\" src=\"https://encrypted-tbn0.gstatic.com/images?q=tbn:ANd9GcSuKzon4oIn7-OSb-9iXx3FqqSwfGoodeTfpwLoBGSEtc6umZV6Y7_C26mJx5c&amp;s\"/>,\n",
       " <img alt=\"\" class=\"DS1iW\" src=\"https://encrypted-tbn0.gstatic.com/images?q=tbn:ANd9GcS4IRohWS0oQyw8dCQDHZCbaelnPDQ3BSD7pzC45LnQgWj0XKewLqleUqC4PVg&amp;s\"/>,\n",
       " <img alt=\"\" class=\"DS1iW\" src=\"https://encrypted-tbn0.gstatic.com/images?q=tbn:ANd9GcQRvWXy6YVu9wObngPfYExc4ri00-ykooIXnV5SUkJAC0BSNsp_nGbj4lLlAQ&amp;s\"/>,\n",
       " <img alt=\"\" class=\"DS1iW\" src=\"https://encrypted-tbn0.gstatic.com/images?q=tbn:ANd9GcQZPb_p7YLuTyRVoY7KTaBHru3IFF_XUbe2_liQU8Q9ZtxEy8GwjxJQ3ntt4w&amp;s\"/>,\n",
       " <img alt=\"\" class=\"DS1iW\" src=\"https://encrypted-tbn0.gstatic.com/images?q=tbn:ANd9GcS9yrkKS_LTMA1qXTqX43fAo6Fgr_vddHPDO_N0a0kQd2LhRUmEYk6O6vsSsg&amp;s\"/>,\n",
       " <img alt=\"\" class=\"DS1iW\" src=\"https://encrypted-tbn0.gstatic.com/images?q=tbn:ANd9GcStmYU8AolJv9bUIwMsQf1G2NWSirV9n5tp-qH7tXz1Qke-4wjT00-IBqkvBI4&amp;s\"/>]"
      ]
     },
     "execution_count": 22,
     "metadata": {},
     "output_type": "execute_result"
    }
   ],
   "source": [
    "soup.find_all(\"img\")"
   ]
  },
  {
   "cell_type": "code",
   "execution_count": 23,
   "id": "e6155d6f",
   "metadata": {},
   "outputs": [],
   "source": [
    "images_tags= soup.find_all(\"img\")"
   ]
  },
  {
   "cell_type": "code",
   "execution_count": 24,
   "id": "96b79d2b",
   "metadata": {},
   "outputs": [
    {
     "data": {
      "text/plain": [
       "[<img alt=\"Google\" class=\"kgJEQe\" src=\"/images/branding/searchlogo/1x/googlelogo_desk_heirloom_color_150x55dp.gif\"/>,\n",
       " <img alt=\"\" class=\"DS1iW\" src=\"https://encrypted-tbn0.gstatic.com/images?q=tbn:ANd9GcQ8WTughNjj6PIIbV4YZpJLfFDHKG0NmE7IsVYkRRGeqdvzT3Z-AlOSTD-aNQ&amp;s\"/>,\n",
       " <img alt=\"\" class=\"DS1iW\" src=\"https://encrypted-tbn0.gstatic.com/images?q=tbn:ANd9GcTEDne1eOpQ4sWD_fRO_FKHe6UkG81SSvjpnRefa7OuM2FTakI-8BGsZyanXgw&amp;s\"/>,\n",
       " <img alt=\"\" class=\"DS1iW\" src=\"https://encrypted-tbn0.gstatic.com/images?q=tbn:ANd9GcQsPJlmB541FlXqTl6rCvD33NhUIj0Myk9e4PujbsHZd7vp5QsNLg9tna6GYxs&amp;s\"/>,\n",
       " <img alt=\"\" class=\"DS1iW\" src=\"https://encrypted-tbn0.gstatic.com/images?q=tbn:ANd9GcRkyCze7mJ_3z9hLAHaMmSFFN8CZrMKOW-9OF_5ugjGQfGcSagcfT1QoiJIISk&amp;s\"/>,\n",
       " <img alt=\"\" class=\"DS1iW\" src=\"https://encrypted-tbn0.gstatic.com/images?q=tbn:ANd9GcS8wmPVtghLnMA_Xk4WOwbWL3ZKyUAgLCaDeQGgW_xym4Mg1CnOSAsZOW3oVQ&amp;s\"/>,\n",
       " <img alt=\"\" class=\"DS1iW\" src=\"https://encrypted-tbn0.gstatic.com/images?q=tbn:ANd9GcQj5s7acYNhiCutlf6HR6WufjpEHY5eHLqDpJua8NzoPhhnaPO9Z0s8ZnVGZkc&amp;s\"/>,\n",
       " <img alt=\"\" class=\"DS1iW\" src=\"https://encrypted-tbn0.gstatic.com/images?q=tbn:ANd9GcQQKjmDfKKhJJAzyRHwVEbxp2H5vpeLomIsSbsfxXOIO9cB5NpvRCCORKPGMMk&amp;s\"/>,\n",
       " <img alt=\"\" class=\"DS1iW\" src=\"https://encrypted-tbn0.gstatic.com/images?q=tbn:ANd9GcR5WVu02Zxz08ydK5B_I4goFf6oKTm2CUWUqpkMRbdUSp-AkJhlLXMTntQ9XA&amp;s\"/>,\n",
       " <img alt=\"\" class=\"DS1iW\" src=\"https://encrypted-tbn0.gstatic.com/images?q=tbn:ANd9GcR3qA8EKTCS85DnobU9yBz7bMAWBXeyw8deI09u_jnYPunNEaFxWzdoR4eD2MA&amp;s\"/>,\n",
       " <img alt=\"\" class=\"DS1iW\" src=\"https://encrypted-tbn0.gstatic.com/images?q=tbn:ANd9GcTS7Tg80LokKFyc38SctyW9jf9fcH8ZNqOFujjYgIKCgjYCy5X9O5fcfPjwtc0&amp;s\"/>,\n",
       " <img alt=\"\" class=\"DS1iW\" src=\"https://encrypted-tbn0.gstatic.com/images?q=tbn:ANd9GcQzCDShTV303v_69pSOKVN91I4-_Z62oIX5rvwcVpMRknPeMX7xt9M7qTwE7Q&amp;s\"/>,\n",
       " <img alt=\"\" class=\"DS1iW\" src=\"https://encrypted-tbn0.gstatic.com/images?q=tbn:ANd9GcSSFTlCj_gLPk9xUnpZJiA48SXVn5c5OQoOsANFAtro2AcFI7tA4oKd9fi4Ug&amp;s\"/>,\n",
       " <img alt=\"\" class=\"DS1iW\" src=\"https://encrypted-tbn0.gstatic.com/images?q=tbn:ANd9GcS1_1LFgBAxiq2wel_aoEifNamK9szJLeAMqKkKIxRyeKSDjhIBd-Rlc_q9_Q&amp;s\"/>,\n",
       " <img alt=\"\" class=\"DS1iW\" src=\"https://encrypted-tbn0.gstatic.com/images?q=tbn:ANd9GcRIrFYPFYBcaD5Vz2UXmf-wlgO0ZATlQvu4TiM5-TUFg6_jWW1AaqxqKUDL3bU&amp;s\"/>,\n",
       " <img alt=\"\" class=\"DS1iW\" src=\"https://encrypted-tbn0.gstatic.com/images?q=tbn:ANd9GcSuKzon4oIn7-OSb-9iXx3FqqSwfGoodeTfpwLoBGSEtc6umZV6Y7_C26mJx5c&amp;s\"/>,\n",
       " <img alt=\"\" class=\"DS1iW\" src=\"https://encrypted-tbn0.gstatic.com/images?q=tbn:ANd9GcS4IRohWS0oQyw8dCQDHZCbaelnPDQ3BSD7pzC45LnQgWj0XKewLqleUqC4PVg&amp;s\"/>,\n",
       " <img alt=\"\" class=\"DS1iW\" src=\"https://encrypted-tbn0.gstatic.com/images?q=tbn:ANd9GcQRvWXy6YVu9wObngPfYExc4ri00-ykooIXnV5SUkJAC0BSNsp_nGbj4lLlAQ&amp;s\"/>,\n",
       " <img alt=\"\" class=\"DS1iW\" src=\"https://encrypted-tbn0.gstatic.com/images?q=tbn:ANd9GcQZPb_p7YLuTyRVoY7KTaBHru3IFF_XUbe2_liQU8Q9ZtxEy8GwjxJQ3ntt4w&amp;s\"/>,\n",
       " <img alt=\"\" class=\"DS1iW\" src=\"https://encrypted-tbn0.gstatic.com/images?q=tbn:ANd9GcS9yrkKS_LTMA1qXTqX43fAo6Fgr_vddHPDO_N0a0kQd2LhRUmEYk6O6vsSsg&amp;s\"/>,\n",
       " <img alt=\"\" class=\"DS1iW\" src=\"https://encrypted-tbn0.gstatic.com/images?q=tbn:ANd9GcStmYU8AolJv9bUIwMsQf1G2NWSirV9n5tp-qH7tXz1Qke-4wjT00-IBqkvBI4&amp;s\"/>]"
      ]
     },
     "execution_count": 24,
     "metadata": {},
     "output_type": "execute_result"
    }
   ],
   "source": [
    "images_tags"
   ]
  },
  {
   "cell_type": "code",
   "execution_count": 25,
   "id": "08c84d7b",
   "metadata": {},
   "outputs": [
    {
     "data": {
      "text/plain": [
       "21"
      ]
     },
     "execution_count": 25,
     "metadata": {},
     "output_type": "execute_result"
    }
   ],
   "source": [
    "len(images_tags)"
   ]
  },
  {
   "cell_type": "code",
   "execution_count": 26,
   "id": "6ee1f081",
   "metadata": {},
   "outputs": [],
   "source": [
    "del images_tags[0]"
   ]
  },
  {
   "cell_type": "code",
   "execution_count": 27,
   "id": "b4eefbf3",
   "metadata": {},
   "outputs": [],
   "source": [
    "img_data_mongo = []\n",
    "for i in images_tags:\n",
    "    image_url = i ['src']\n",
    "    image_data = requests.get(image_url).content\n",
    "    mydict =  {\"index\":image_url, \"image\":image_data}\n",
    "    img_data_mongo.append(mydict)\n",
    "    \n",
    "    with open (os.path.join(save_dir, f\"{query}_{images_tags.index(i)}.jpg)\"),\"wb\") as f:\n",
    "     f.write(image_data)"
   ]
  },
  {
   "cell_type": "code",
   "execution_count": null,
   "id": "91bd8613",
   "metadata": {},
   "outputs": [],
   "source": []
  },
  {
   "cell_type": "code",
   "execution_count": null,
   "id": "4ff5085e",
   "metadata": {},
   "outputs": [],
   "source": [
    "`"
   ]
  },
  {
   "cell_type": "code",
   "execution_count": null,
   "id": "293a959a",
   "metadata": {},
   "outputs": [],
   "source": []
  },
  {
   "cell_type": "code",
   "execution_count": null,
   "id": "55517937",
   "metadata": {},
   "outputs": [],
   "source": []
  }
 ],
 "metadata": {
  "kernelspec": {
   "display_name": "Python 3 (ipykernel)",
   "language": "python",
   "name": "python3"
  },
  "language_info": {
   "codemirror_mode": {
    "name": "ipython",
    "version": 3
   },
   "file_extension": ".py",
   "mimetype": "text/x-python",
   "name": "python",
   "nbconvert_exporter": "python",
   "pygments_lexer": "ipython3",
   "version": "3.11.5"
  }
 },
 "nbformat": 4,
 "nbformat_minor": 5
}
